{
    "cells": [
        {
            "cell_type": "code",
            "execution_count": 2,
            "metadata": {},
            "outputs": [
                {
                    "name": "stdout",
                    "output_type": "stream",
                    "text": [
                        "2023-07-20 13:37:57.041363\n"
                    ]
                }
            ],
            "source": [
                "import pandas as pd\n",
                "import datetime as datetime\n",
                "import pprint\n",
                "import os\n",
                "import psycopg2\n",
                "import requests\n",
                "import boto3\n",
                "import dotenv\n",
                "from requests import get \n",
                "from bs4 import BeautifulSoup\n",
                "from urllib.parse import urlparse, parse_qs, urlunparse\n",
                "from bson.json_util import dumps\n",
                "from IPython.display import display, Image\n",
                "from IPython.display import HTML\n",
                "\n",
                "# An example of getting current date\n",
                "\n",
                "currDate = datetime.datetime.now()\n",
                " \n",
                "print(currDate)"
            ]
        },
        {
            "cell_type": "code",
            "execution_count": 3,
            "metadata": {},
            "outputs": [],
            "source": [
                "# Load the environment variables from the .env file\n",
                "dotenv.load_dotenv()\n",
                "\n",
                "scrape_url = os.getenv('SCRAPE_URL')\n",
                "# print(scrape_url)\n",
                "\n",
                "POSTGRES_URL = os.environ.get('POSTGRES_URL')\n",
                "# print(POSTGRES_URL)\n",
                "\n",
                "FINAL_POSTGRES_URL = os.environ.get('FINAL_POSTGRES_URL')\n",
                "# print(POSTGRES_URL)\n"
            ]
        },
        {
            "cell_type": "code",
            "execution_count": 4,
            "metadata": {},
            "outputs": [],
            "source": [
                "# response = requests.get(scrape_url)\n",
                "\n",
                "# # Create BeautifulSoup object\n",
                "# soup = BeautifulSoup(response.text, \"html.parser\")\n",
                "\n",
                "# body_tag = soup.body\n",
                "\n",
                "# print(body_tag)"
            ]
        },
        {
            "cell_type": "code",
            "execution_count": 5,
            "metadata": {},
            "outputs": [],
            "source": [
                "# example_img = \"https://pbs.twimg.com/media/FyV7PAEWwAADDKD.jpg\"\n",
                "# # display(Image(example_img))\n",
                "# display(Image(example_img, width=200))"
            ]
        },
        {
            "cell_type": "code",
            "execution_count": 6,
            "metadata": {},
            "outputs": [],
            "source": [
                "# # Find all the lines (within <a> tags) in the webpage\n",
                "# lines = soup.find_all(\"a\")\n",
                "\n",
                "# # Iterate over the lines and print line number, content, and type (link or image)\n",
                "# for i, line in enumerate(lines, start=1):\n",
                "#     line_content = line.get_text()\n",
                "#     line_type = \"Link\"\n",
                "#     line_url = line.get(\"href\")\n",
                "\n",
                "#     if line.find(\"img\"):\n",
                "#         line_type = \"Image\"\n",
                "\n",
                "#     print(f\"Line {i}: {line_content} [{line_type}]\")\n",
                "#     print(f\"URL: {line_url}\")"
            ]
        },
        {
            "cell_type": "code",
            "execution_count": 7,
            "metadata": {},
            "outputs": [],
            "source": [
                "# soup"
            ]
        },
        {
            "cell_type": "code",
            "execution_count": 38,
            "metadata": {},
            "outputs": [
                {
                    "name": "stdout",
                    "output_type": "stream",
                    "text": [
                        "chromedriver: /usr/local/bin/chromedriver\n"
                    ]
                }
            ],
            "source": [
                "# !pip show selenium\n",
                "!whereis chromedriver"
            ]
        },
        {
            "cell_type": "code",
            "execution_count": 35,
            "metadata": {},
            "outputs": [
                {
                    "ename": "TypeError",
                    "evalue": "__init__() got multiple values for argument 'options'",
                    "output_type": "error",
                    "traceback": [
                        "\u001b[0;31m---------------------------------------------------------------------------\u001b[0m",
                        "\u001b[0;31mTypeError\u001b[0m                                 Traceback (most recent call last)",
                        "Cell \u001b[0;32mIn[35], line 7\u001b[0m\n\u001b[1;32m      4\u001b[0m options \u001b[39m=\u001b[39m webdriver\u001b[39m.\u001b[39mChromeOptions()\n\u001b[1;32m      5\u001b[0m options\u001b[39m.\u001b[39madd_argument(\u001b[39m\"\u001b[39m\u001b[39m--headless\u001b[39m\u001b[39m\"\u001b[39m)  \u001b[39m# Optional, run in headless mode (no visible browser)\u001b[39;00m\n\u001b[0;32m----> 7\u001b[0m driver \u001b[39m=\u001b[39m webdriver\u001b[39m.\u001b[39;49mChrome(ChromeDriverManager()\u001b[39m.\u001b[39;49minstall(), options\u001b[39m=\u001b[39;49moptions)\n",
                        "\u001b[0;31mTypeError\u001b[0m: __init__() got multiple values for argument 'options'"
                    ]
                }
            ],
            "source": [
                "from selenium import webdriver\n",
                "from webdriver_manager.chrome import ChromeDriverManager\n",
                "\n",
                "options = webdriver.ChromeOptions()\n",
                "options.add_argument(\"--headless\")  # Optional, run in headless mode (no visible browser)\n",
                "\n",
                "driver = webdriver.Chrome(ChromeDriverManager().install(), options=options)\n"
            ]
        },
        {
            "cell_type": "code",
            "execution_count": 34,
            "metadata": {},
            "outputs": [
                {
                    "ename": "TypeError",
                    "evalue": "__init__() got multiple values for argument 'options'",
                    "output_type": "error",
                    "traceback": [
                        "\u001b[0;31m---------------------------------------------------------------------------\u001b[0m",
                        "\u001b[0;31mTypeError\u001b[0m                                 Traceback (most recent call last)",
                        "Cell \u001b[0;32mIn[34], line 7\u001b[0m\n\u001b[1;32m      4\u001b[0m options \u001b[39m=\u001b[39m webdriver\u001b[39m.\u001b[39mChromeOptions()\n\u001b[1;32m      5\u001b[0m options\u001b[39m.\u001b[39madd_argument(\u001b[39m\"\u001b[39m\u001b[39m--headless\u001b[39m\u001b[39m\"\u001b[39m)  \u001b[39m# Optional, run in headless mode (no visible browser)\u001b[39;00m\n\u001b[0;32m----> 7\u001b[0m driver \u001b[39m=\u001b[39m webdriver\u001b[39m.\u001b[39;49mChrome(ChromeDriverManager()\u001b[39m.\u001b[39;49minstall(), options\u001b[39m=\u001b[39;49moptions)\n",
                        "\u001b[0;31mTypeError\u001b[0m: __init__() got multiple values for argument 'options'"
                    ]
                }
            ],
            "source": [
                "from selenium import webdriver\n",
                "from webdriver_manager.chrome import ChromeDriverManager\n",
                "\n",
                "options = webdriver.ChromeOptions()\n",
                "options.add_argument(\"--headless\")  # Optional, run in headless mode (no visible browser)\n",
                "\n",
                "driver = webdriver.Chrome(ChromeDriverManager().install(), options=options)\n"
            ]
        },
        {
            "cell_type": "code",
            "execution_count": 32,
            "metadata": {},
            "outputs": [
                {
                    "ename": "AttributeError",
                    "evalue": "'str' object has no attribute '_ignore_local_proxy'",
                    "output_type": "error",
                    "traceback": [
                        "\u001b[0;31m---------------------------------------------------------------------------\u001b[0m",
                        "\u001b[0;31mAttributeError\u001b[0m                            Traceback (most recent call last)",
                        "Cell \u001b[0;32mIn[32], line 4\u001b[0m\n\u001b[1;32m      1\u001b[0m \u001b[39mfrom\u001b[39;00m \u001b[39mselenium\u001b[39;00m \u001b[39mimport\u001b[39;00m webdriver\n\u001b[1;32m      2\u001b[0m \u001b[39mfrom\u001b[39;00m \u001b[39mwebdriver_manager\u001b[39;00m\u001b[39m.\u001b[39;00m\u001b[39mchrome\u001b[39;00m \u001b[39mimport\u001b[39;00m ChromeDriverManager\n\u001b[0;32m----> 4\u001b[0m driver \u001b[39m=\u001b[39m webdriver\u001b[39m.\u001b[39;49mChrome(ChromeDriverManager()\u001b[39m.\u001b[39;49minstall())\n",
                        "File \u001b[0;32m~/ap/vol6/music-scraper-analysis-beautiful-soup-python-postgres-grafana/env/lib/python3.8/site-packages/selenium/webdriver/chrome/webdriver.py:49\u001b[0m, in \u001b[0;36mWebDriver.__init__\u001b[0;34m(self, options, service, keep_alive)\u001b[0m\n\u001b[1;32m     45\u001b[0m \u001b[39mself\u001b[39m\u001b[39m.\u001b[39mkeep_alive \u001b[39m=\u001b[39m keep_alive\n\u001b[1;32m     47\u001b[0m \u001b[39mself\u001b[39m\u001b[39m.\u001b[39mservice\u001b[39m.\u001b[39mpath \u001b[39m=\u001b[39m DriverFinder\u001b[39m.\u001b[39mget_path(\u001b[39mself\u001b[39m\u001b[39m.\u001b[39mservice, \u001b[39mself\u001b[39m\u001b[39m.\u001b[39moptions)\n\u001b[0;32m---> 49\u001b[0m \u001b[39msuper\u001b[39;49m()\u001b[39m.\u001b[39;49m\u001b[39m__init__\u001b[39;49m(\n\u001b[1;32m     50\u001b[0m     DesiredCapabilities\u001b[39m.\u001b[39;49mCHROME[\u001b[39m\"\u001b[39;49m\u001b[39mbrowserName\u001b[39;49m\u001b[39m\"\u001b[39;49m],\n\u001b[1;32m     51\u001b[0m     \u001b[39m\"\u001b[39;49m\u001b[39mgoog\u001b[39;49m\u001b[39m\"\u001b[39;49m,\n\u001b[1;32m     52\u001b[0m     \u001b[39mself\u001b[39;49m\u001b[39m.\u001b[39;49moptions,\n\u001b[1;32m     53\u001b[0m     \u001b[39mself\u001b[39;49m\u001b[39m.\u001b[39;49mservice,\n\u001b[1;32m     54\u001b[0m     \u001b[39mself\u001b[39;49m\u001b[39m.\u001b[39;49mkeep_alive,\n\u001b[1;32m     55\u001b[0m )\n",
                        "File \u001b[0;32m~/ap/vol6/music-scraper-analysis-beautiful-soup-python-postgres-grafana/env/lib/python3.8/site-packages/selenium/webdriver/chromium/webdriver.py:60\u001b[0m, in \u001b[0;36mChromiumDriver.__init__\u001b[0;34m(self, browser_name, vendor_prefix, options, service, keep_alive)\u001b[0m\n\u001b[1;32m     51\u001b[0m \u001b[39mself\u001b[39m\u001b[39m.\u001b[39mservice\u001b[39m.\u001b[39mstart()\n\u001b[1;32m     53\u001b[0m \u001b[39mtry\u001b[39;00m:\n\u001b[1;32m     54\u001b[0m     \u001b[39msuper\u001b[39m()\u001b[39m.\u001b[39m\u001b[39m__init__\u001b[39m(\n\u001b[1;32m     55\u001b[0m         command_executor\u001b[39m=\u001b[39mChromiumRemoteConnection(\n\u001b[1;32m     56\u001b[0m             remote_server_addr\u001b[39m=\u001b[39m\u001b[39mself\u001b[39m\u001b[39m.\u001b[39mservice\u001b[39m.\u001b[39mservice_url,\n\u001b[1;32m     57\u001b[0m             browser_name\u001b[39m=\u001b[39mbrowser_name,\n\u001b[1;32m     58\u001b[0m             vendor_prefix\u001b[39m=\u001b[39mvendor_prefix,\n\u001b[1;32m     59\u001b[0m             keep_alive\u001b[39m=\u001b[39mkeep_alive,\n\u001b[0;32m---> 60\u001b[0m             ignore_proxy\u001b[39m=\u001b[39m\u001b[39mself\u001b[39;49m\u001b[39m.\u001b[39;49moptions\u001b[39m.\u001b[39;49m_ignore_local_proxy,\n\u001b[1;32m     61\u001b[0m         ),\n\u001b[1;32m     62\u001b[0m         options\u001b[39m=\u001b[39m\u001b[39mself\u001b[39m\u001b[39m.\u001b[39moptions,\n\u001b[1;32m     63\u001b[0m     )\n\u001b[1;32m     64\u001b[0m \u001b[39mexcept\u001b[39;00m \u001b[39mException\u001b[39;00m:\n\u001b[1;32m     65\u001b[0m     \u001b[39mself\u001b[39m\u001b[39m.\u001b[39mquit()\n",
                        "\u001b[0;31mAttributeError\u001b[0m: 'str' object has no attribute '_ignore_local_proxy'"
                    ]
                }
            ],
            "source": [
                "from selenium import webdriver\n",
                "from webdriver_manager.chrome import ChromeDriverManager\n",
                "\n",
                "driver = webdriver.Chrome(ChromeDriverManager().install())\n"
            ]
        },
        {
            "cell_type": "code",
            "execution_count": 30,
            "metadata": {},
            "outputs": [
                {
                    "ename": "TypeError",
                    "evalue": "__init__() got an unexpected keyword argument 'executable_path'",
                    "output_type": "error",
                    "traceback": [
                        "\u001b[0;31m---------------------------------------------------------------------------\u001b[0m",
                        "\u001b[0;31mTypeError\u001b[0m                                 Traceback (most recent call last)",
                        "Cell \u001b[0;32mIn[30], line 8\u001b[0m\n\u001b[1;32m      5\u001b[0m driver_path \u001b[39m=\u001b[39m \u001b[39m\"\u001b[39m\u001b[39m/usr/local/bin/chromedriver\u001b[39m\u001b[39m\"\u001b[39m\n\u001b[1;32m      7\u001b[0m \u001b[39m# Set up the WebDriver\u001b[39;00m\n\u001b[0;32m----> 8\u001b[0m driver \u001b[39m=\u001b[39m webdriver\u001b[39m.\u001b[39;49mChrome(executable_path\u001b[39m=\u001b[39;49mdriver_path)\n\u001b[1;32m     10\u001b[0m \u001b[39m# Now you can use the driver for your web scraping tasks\u001b[39;00m\n",
                        "\u001b[0;31mTypeError\u001b[0m: __init__() got an unexpected keyword argument 'executable_path'"
                    ]
                }
            ],
            "source": [
                "from selenium import webdriver\n",
                "\n",
                "# Specify the path to the downloaded chromedriver executable\n",
                "# driver_path = \"/path/to/chromedriver\"\n",
                "driver_path = \"/usr/local/bin/chromedriver\"\n",
                "\n",
                "# Set up the WebDriver\n",
                "driver = webdriver.Chrome(executable_path=driver_path)\n",
                "\n",
                "# Now you can use the driver for your web scraping tasks\n"
            ]
        },
        {
            "cell_type": "code",
            "execution_count": null,
            "metadata": {},
            "outputs": [],
            "source": []
        },
        {
            "cell_type": "code",
            "execution_count": 1,
            "metadata": {},
            "outputs": [
                {
                    "ename": "WebDriverException",
                    "evalue": "Message: Process unexpectedly closed with status 1\n",
                    "output_type": "error",
                    "traceback": [
                        "\u001b[0;31m---------------------------------------------------------------------------\u001b[0m",
                        "\u001b[0;31mWebDriverException\u001b[0m                        Traceback (most recent call last)",
                        "Cell \u001b[0;32mIn[1], line 4\u001b[0m\n\u001b[1;32m      1\u001b[0m \u001b[39mimport\u001b[39;00m \u001b[39mtime\u001b[39;00m\n\u001b[1;32m      2\u001b[0m \u001b[39mfrom\u001b[39;00m \u001b[39mselenium\u001b[39;00m \u001b[39mimport\u001b[39;00m webdriver\n\u001b[0;32m----> 4\u001b[0m driver \u001b[39m=\u001b[39m webdriver\u001b[39m.\u001b[39;49mFirefox()\n\u001b[1;32m      5\u001b[0m \u001b[39m# driver = webdriver.Chrome('/usr/local/bin/chromedriver')  # Optional argument, if not specified will search path.\u001b[39;00m\n\u001b[1;32m      6\u001b[0m \n\u001b[1;32m      7\u001b[0m \n\u001b[1;32m      8\u001b[0m \u001b[39m# driver = webdriver.Chrome('/path/to/chromedriver')  # Optional argument, if not specified will search path.\u001b[39;00m\n\u001b[1;32m      9\u001b[0m \u001b[39m# driver = webdriver.Chrome()  # Optional argument, if not specified will search path.\u001b[39;00m\n\u001b[1;32m     11\u001b[0m driver\u001b[39m.\u001b[39mget(\u001b[39m'\u001b[39m\u001b[39mhttp://www.google.com/\u001b[39m\u001b[39m'\u001b[39m);\n",
                        "File \u001b[0;32m~/ap/vol6/music-scraper-analysis-beautiful-soup-python-postgres-grafana/env/lib/python3.8/site-packages/selenium/webdriver/firefox/webdriver.py:68\u001b[0m, in \u001b[0;36mWebDriver.__init__\u001b[0;34m(self, options, service, keep_alive)\u001b[0m\n\u001b[1;32m     61\u001b[0m \u001b[39mself\u001b[39m\u001b[39m.\u001b[39mservice\u001b[39m.\u001b[39mstart()\n\u001b[1;32m     63\u001b[0m executor \u001b[39m=\u001b[39m FirefoxRemoteConnection(\n\u001b[1;32m     64\u001b[0m     remote_server_addr\u001b[39m=\u001b[39m\u001b[39mself\u001b[39m\u001b[39m.\u001b[39mservice\u001b[39m.\u001b[39mservice_url,\n\u001b[1;32m     65\u001b[0m     ignore_proxy\u001b[39m=\u001b[39m\u001b[39mself\u001b[39m\u001b[39m.\u001b[39moptions\u001b[39m.\u001b[39m_ignore_local_proxy,\n\u001b[1;32m     66\u001b[0m     keep_alive\u001b[39m=\u001b[39m\u001b[39mself\u001b[39m\u001b[39m.\u001b[39mkeep_alive,\n\u001b[1;32m     67\u001b[0m )\n\u001b[0;32m---> 68\u001b[0m \u001b[39msuper\u001b[39;49m()\u001b[39m.\u001b[39;49m\u001b[39m__init__\u001b[39;49m(command_executor\u001b[39m=\u001b[39;49mexecutor, options\u001b[39m=\u001b[39;49m\u001b[39mself\u001b[39;49m\u001b[39m.\u001b[39;49moptions)\n\u001b[1;32m     70\u001b[0m \u001b[39mself\u001b[39m\u001b[39m.\u001b[39m_is_remote \u001b[39m=\u001b[39m \u001b[39mFalse\u001b[39;00m\n",
                        "File \u001b[0;32m~/ap/vol6/music-scraper-analysis-beautiful-soup-python-postgres-grafana/env/lib/python3.8/site-packages/selenium/webdriver/remote/webdriver.py:206\u001b[0m, in \u001b[0;36mWebDriver.__init__\u001b[0;34m(self, command_executor, keep_alive, file_detector, options)\u001b[0m\n\u001b[1;32m    204\u001b[0m \u001b[39mself\u001b[39m\u001b[39m.\u001b[39m_authenticator_id \u001b[39m=\u001b[39m \u001b[39mNone\u001b[39;00m\n\u001b[1;32m    205\u001b[0m \u001b[39mself\u001b[39m\u001b[39m.\u001b[39mstart_client()\n\u001b[0;32m--> 206\u001b[0m \u001b[39mself\u001b[39;49m\u001b[39m.\u001b[39;49mstart_session(capabilities)\n",
                        "File \u001b[0;32m~/ap/vol6/music-scraper-analysis-beautiful-soup-python-postgres-grafana/env/lib/python3.8/site-packages/selenium/webdriver/remote/webdriver.py:291\u001b[0m, in \u001b[0;36mWebDriver.start_session\u001b[0;34m(self, capabilities)\u001b[0m\n\u001b[1;32m    283\u001b[0m \u001b[39m\u001b[39m\u001b[39m\"\"\"Creates a new session with the desired capabilities.\u001b[39;00m\n\u001b[1;32m    284\u001b[0m \n\u001b[1;32m    285\u001b[0m \u001b[39m:Args:\u001b[39;00m\n\u001b[1;32m    286\u001b[0m \u001b[39m - capabilities - a capabilities dict to start the session with.\u001b[39;00m\n\u001b[1;32m    287\u001b[0m \u001b[39m - browser_profile - A selenium.webdriver.firefox.firefox_profile.FirefoxProfile object. Only used if Firefox is requested.\u001b[39;00m\n\u001b[1;32m    288\u001b[0m \u001b[39m\"\"\"\u001b[39;00m\n\u001b[1;32m    290\u001b[0m caps \u001b[39m=\u001b[39m _create_caps(capabilities)\n\u001b[0;32m--> 291\u001b[0m response \u001b[39m=\u001b[39m \u001b[39mself\u001b[39;49m\u001b[39m.\u001b[39;49mexecute(Command\u001b[39m.\u001b[39;49mNEW_SESSION, caps)[\u001b[39m\"\u001b[39m\u001b[39mvalue\u001b[39m\u001b[39m\"\u001b[39m]\n\u001b[1;32m    292\u001b[0m \u001b[39mself\u001b[39m\u001b[39m.\u001b[39msession_id \u001b[39m=\u001b[39m response\u001b[39m.\u001b[39mget(\u001b[39m\"\u001b[39m\u001b[39msessionId\u001b[39m\u001b[39m\"\u001b[39m)\n\u001b[1;32m    293\u001b[0m \u001b[39mself\u001b[39m\u001b[39m.\u001b[39mcaps \u001b[39m=\u001b[39m response\u001b[39m.\u001b[39mget(\u001b[39m\"\u001b[39m\u001b[39mcapabilities\u001b[39m\u001b[39m\"\u001b[39m)\n",
                        "File \u001b[0;32m~/ap/vol6/music-scraper-analysis-beautiful-soup-python-postgres-grafana/env/lib/python3.8/site-packages/selenium/webdriver/remote/webdriver.py:346\u001b[0m, in \u001b[0;36mWebDriver.execute\u001b[0;34m(self, driver_command, params)\u001b[0m\n\u001b[1;32m    344\u001b[0m response \u001b[39m=\u001b[39m \u001b[39mself\u001b[39m\u001b[39m.\u001b[39mcommand_executor\u001b[39m.\u001b[39mexecute(driver_command, params)\n\u001b[1;32m    345\u001b[0m \u001b[39mif\u001b[39;00m response:\n\u001b[0;32m--> 346\u001b[0m     \u001b[39mself\u001b[39;49m\u001b[39m.\u001b[39;49merror_handler\u001b[39m.\u001b[39;49mcheck_response(response)\n\u001b[1;32m    347\u001b[0m     response[\u001b[39m\"\u001b[39m\u001b[39mvalue\u001b[39m\u001b[39m\"\u001b[39m] \u001b[39m=\u001b[39m \u001b[39mself\u001b[39m\u001b[39m.\u001b[39m_unwrap_value(response\u001b[39m.\u001b[39mget(\u001b[39m\"\u001b[39m\u001b[39mvalue\u001b[39m\u001b[39m\"\u001b[39m, \u001b[39mNone\u001b[39;00m))\n\u001b[1;32m    348\u001b[0m     \u001b[39mreturn\u001b[39;00m response\n",
                        "File \u001b[0;32m~/ap/vol6/music-scraper-analysis-beautiful-soup-python-postgres-grafana/env/lib/python3.8/site-packages/selenium/webdriver/remote/errorhandler.py:245\u001b[0m, in \u001b[0;36mErrorHandler.check_response\u001b[0;34m(self, response)\u001b[0m\n\u001b[1;32m    243\u001b[0m         alert_text \u001b[39m=\u001b[39m value[\u001b[39m\"\u001b[39m\u001b[39malert\u001b[39m\u001b[39m\"\u001b[39m]\u001b[39m.\u001b[39mget(\u001b[39m\"\u001b[39m\u001b[39mtext\u001b[39m\u001b[39m\"\u001b[39m)\n\u001b[1;32m    244\u001b[0m     \u001b[39mraise\u001b[39;00m exception_class(message, screen, stacktrace, alert_text)  \u001b[39m# type: ignore[call-arg]  # mypy is not smart enough here\u001b[39;00m\n\u001b[0;32m--> 245\u001b[0m \u001b[39mraise\u001b[39;00m exception_class(message, screen, stacktrace)\n",
                        "\u001b[0;31mWebDriverException\u001b[0m: Message: Process unexpectedly closed with status 1\n"
                    ]
                }
            ],
            "source": [
                "import time\n",
                "from selenium import webdriver\n",
                "\n",
                "driver = webdriver.Firefox()\n",
                "\n",
                "driver.get('http://www.google.com/');\n",
                "\n",
                "time.sleep(5) # Let the user actually see something!\n",
                "\n",
                "search_box = driver.find_element_by_name('q')\n",
                "\n",
                "search_box.send_keys('ChromeDriver')\n",
                "\n",
                "search_box.submit()\n",
                "\n",
                "time.sleep(5) # Let the user actually see something!\n",
                "\n",
                "driver.quit()"
            ]
        },
        {
            "cell_type": "code",
            "execution_count": null,
            "metadata": {},
            "outputs": [],
            "source": []
        },
        {
            "cell_type": "code",
            "execution_count": 18,
            "metadata": {},
            "outputs": [
                {
                    "ename": "TypeError",
                    "evalue": "__init__() got an unexpected keyword argument 'executable_path'",
                    "output_type": "error",
                    "traceback": [
                        "\u001b[0;31m---------------------------------------------------------------------------\u001b[0m",
                        "\u001b[0;31mTypeError\u001b[0m                                 Traceback (most recent call last)",
                        "Cell \u001b[0;32mIn[18], line 12\u001b[0m\n\u001b[1;32m     10\u001b[0m chrome_options\u001b[39m.\u001b[39madd_argument(\u001b[39m\"\u001b[39m\u001b[39m--headless\u001b[39m\u001b[39m\"\u001b[39m)  \u001b[39m# Run in headless mode (no visible browser)\u001b[39;00m\n\u001b[1;32m     11\u001b[0m chrome_options\u001b[39m.\u001b[39mbinary_location \u001b[39m=\u001b[39m \u001b[39m\"\u001b[39m\u001b[39m/usr/local/bin/chromium\u001b[39m\u001b[39m\"\u001b[39m  \u001b[39m# Optional if Chromium is not in the system's PATH\u001b[39;00m\n\u001b[0;32m---> 12\u001b[0m driver \u001b[39m=\u001b[39m webdriver\u001b[39m.\u001b[39;49mChrome(executable_path\u001b[39m=\u001b[39;49mdriver_path, options\u001b[39m=\u001b[39;49mchrome_options)\n\u001b[1;32m     14\u001b[0m \u001b[39m# driver = webdriver.Chrome(executable_path=driver_path, chrome_options=chrome_options)\u001b[39;00m\n\u001b[1;32m     15\u001b[0m \u001b[39m# driver = webdriver.Chrome(executable_path=driver_path, options=chrome_options)\u001b[39;00m\n\u001b[1;32m     16\u001b[0m \n\u001b[1;32m     17\u001b[0m \u001b[39m# Step 2: Use Selenium to load the page and execute JavaScript\u001b[39;00m\n\u001b[1;32m     18\u001b[0m driver\u001b[39m.\u001b[39mget(scrape_url)\n",
                        "\u001b[0;31mTypeError\u001b[0m: __init__() got an unexpected keyword argument 'executable_path'"
                    ]
                }
            ],
            "source": [
                "from selenium import webdriver\n",
                "from selenium.webdriver.chrome.options import Options\n",
                "from bs4 import BeautifulSoup\n",
                "\n",
                "# Specify the path to the uploaded chromedriver executable\n",
                "driver_path = \"/usr/local/bin/chromium\"\n",
                "\n",
                "# Set up the WebDriver (Chromium in this example)\n",
                "chrome_options = Options()\n",
                "chrome_options.add_argument(\"--headless\")  # Run in headless mode (no visible browser)\n",
                "chrome_options.binary_location = \"/usr/local/bin/chromium\"  # Optional if Chromium is not in the system's PATH\n",
                "driver = webdriver.Chrome(executable_path=driver_path, options=chrome_options)\n",
                "\n",
                "# driver = webdriver.Chrome(executable_path=driver_path, chrome_options=chrome_options)\n",
                "# driver = webdriver.Chrome(executable_path=driver_path, options=chrome_options)\n",
                "\n",
                "# Step 2: Use Selenium to load the page and execute JavaScript\n",
                "driver.get(scrape_url)\n",
                "\n",
                "# Optionally, you can add some waits to ensure the JavaScript content is loaded completely\n",
                "# For example, you can use WebDriverWait:\n",
                "# from selenium.webdriver.support.ui import WebDriverWait\n",
                "# from selenium.webdriver.common.by import By\n",
                "# from selenium.webdriver.support import expected_conditions as EC\n",
                "# wait = WebDriverWait(driver, 10)\n",
                "# wait.until(EC.presence_of_element_located((By.XPATH, \"xpath-of-some-element-on-the-page\")))\n",
                "\n",
                "# Step 3: Pass the page source to Beautiful Soup\n",
                "page_source = driver.page_source\n",
                "soup = BeautifulSoup(page_source, \"html.parser\")\n",
                "\n",
                "# Step 4: Use Beautiful Soup to extract data from the page\n",
                "# Perform your scraping tasks here using Beautiful Soup as usual\n",
                "# For example:\n",
                "# title = soup.title.text\n",
                "# links = soup.find_all(\"a\")\n",
                "\n",
                "# Step 5: Close the WebDriver\n",
                "driver.quit()\n"
            ]
        }
    ],
    "metadata": {
        "kernelspec": {
            "display_name": "env",
            "language": "python",
            "name": "python3"
        },
        "language_info": {
            "codemirror_mode": {
                "name": "ipython",
                "version": 3
            },
            "file_extension": ".py",
            "mimetype": "text/x-python",
            "name": "python",
            "nbconvert_exporter": "python",
            "pygments_lexer": "ipython3",
            "version": "3.8.10"
        },
        "orig_nbformat": 4
    },
    "nbformat": 4,
    "nbformat_minor": 2
}
