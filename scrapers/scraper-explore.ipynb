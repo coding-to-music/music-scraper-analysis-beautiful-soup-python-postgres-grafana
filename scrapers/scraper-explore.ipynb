{
    "cells": [
     {
      "cell_type": "code",
      "execution_count": 1,
      "metadata": {},
      "outputs": [
       {
        "name": "stdout",
        "output_type": "stream",
        "text": [
         "2023-06-20 20:43:37.791463\n"
        ]
       }
      ],
      "source": [
       "import pandas as pd\n",
       "import datetime as datetime\n",
       "import pprint\n",
       "import os\n",
       "import psycopg2\n",
       "import requests\n",
       "import boto3\n",
       "import dotenv\n",
       "from requests import get \n",
       "from bs4 import BeautifulSoup\n",
       "from urllib.parse import urlparse, parse_qs, urlunparse\n",
       "from bson.json_util import dumps\n",
       "from IPython.display import display, Image\n",
       "from IPython.display import HTML\n",
       "\n",
       "# An example of getting current date\n",
       "\n",
       "currDate = datetime.datetime.now()\n",
       " \n",
       "print(currDate)"
      ]
     },
     {
      "cell_type": "code",
      "execution_count": 2,
      "metadata": {},
      "outputs": [],
      "source": [
       "# Load the environment variables from the .env file\n",
       "dotenv.load_dotenv()\n",
       "\n",
       "scrape_url = os.getenv('SCRAPE_URL')\n",
       "# print(scrape_url)\n",
       "\n",
       "POSTGRES_URL = os.environ.get('POSTGRES_URL')\n",
       "# print(POSTGRES_URL)\n",
       "\n",
       "FINAL_POSTGRES_URL = os.environ.get('FINAL_POSTGRES_URL')\n",
       "# print(POSTGRES_URL)\n"
      ]
     },
     {
      "cell_type": "code",
      "execution_count": 3,
      "metadata": {},
      "outputs": [],
      "source": [
       "response = requests.get(scrape_url)\n",
       "\n",
       "# Create BeautifulSoup object\n",
       "soup = BeautifulSoup(response.text, \"html.parser\")\n",
       "\n",
       "body_tag = soup.body\n",
       "\n",
       "# print(body_tag)"
      ]
     }
    }
}
